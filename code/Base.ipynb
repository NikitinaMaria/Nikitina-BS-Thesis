{
  "cells": [
    {
      "cell_type": "markdown",
      "metadata": {
        "id": "YVSTFDo22TOx"
      },
      "source": [
        "# Базовый эксперимент"
      ],
      "id": "YVSTFDo22TOx"
    },
    {
      "cell_type": "markdown",
      "source": [
        "Бейзлайн модель с contrastive loss"
      ],
      "metadata": {
        "id": "L3TKxpYYdzic"
      },
      "id": "L3TKxpYYdzic"
    },
    {
      "cell_type": "code",
      "execution_count": 18,
      "metadata": {
        "colab": {
          "base_uri": "https://localhost:8080/"
        },
        "id": "97AykUs4bwkW",
        "outputId": "eff29b12-46a4-4e08-9745-2ec8efd68537"
      },
      "outputs": [
        {
          "output_type": "stream",
          "name": "stdout",
          "text": [
            "Files already downloaded and verified\n",
            "/usr/local/lib/python3.10/dist-packages/torch/utils/data/dataloader.py:557: UserWarning: This DataLoader will create 4 worker processes in total. Our suggested max number of worker in current system is 2, which is smaller than what this DataLoader is going to create. Please be aware that excessive worker creation might get DataLoader running slow or even freeze, lower the worker number to avoid potential slowness/freeze if necessary.\n",
            "  warnings.warn(_create_warning_msg(\n",
            "Files already downloaded and verified\n",
            "Files already downloaded and verified\n",
            "Loss:  ContrastiveLoss()\n",
            "Classes:  10\n",
            "  0% 0/5 [00:00<?, ?it/s]Epoch 1, acc1: 42.92\n",
            " 20% 1/5 [02:33<10:15, 153.97s/it]Epoch 2, acc1: 46.83\n",
            " 40% 2/5 [05:04<07:35, 151.91s/it]Epoch 3, acc1: 51.35999999999999\n",
            " 60% 3/5 [07:42<05:09, 154.71s/it]Epoch 4, acc1: 52.910000000000004\n",
            " 80% 4/5 [10:17<02:35, 155.01s/it]Epoch 5, acc1: 54.510000000000005\n",
            "100% 5/5 [12:51<00:00, 154.21s/it]\n"
          ]
        }
      ],
      "source": [
        "!python main.py \\\n",
        "    --dataset \"CIFAR10\" \\\n",
        "    --loss \"Contrastive\" \\\n",
        "    --input_dir \"/content/\" \\\n",
        "    --output_dir \"/content/models_contrastive\" \\\n",
        "    --encoder \"resnet18\" \\\n",
        "    --cuda \\\n",
        "    --batch_size 218 \\\n",
        "    --epochs 5"
      ],
      "id": "97AykUs4bwkW"
    },
    {
      "cell_type": "markdown",
      "source": [
        "Модель с DebiasedPos loss"
      ],
      "metadata": {
        "id": "q9DtsMWCd6Ci"
      },
      "id": "q9DtsMWCd6Ci"
    },
    {
      "cell_type": "code",
      "execution_count": 19,
      "metadata": {
        "colab": {
          "base_uri": "https://localhost:8080/"
        },
        "id": "0yVjUomv2YoW",
        "outputId": "22949580-90d8-45c7-8198-6b2a8bdf3005"
      },
      "outputs": [
        {
          "output_type": "stream",
          "name": "stdout",
          "text": [
            "Files already downloaded and verified\n",
            "/usr/local/lib/python3.10/dist-packages/torch/utils/data/dataloader.py:557: UserWarning: This DataLoader will create 4 worker processes in total. Our suggested max number of worker in current system is 2, which is smaller than what this DataLoader is going to create. Please be aware that excessive worker creation might get DataLoader running slow or even freeze, lower the worker number to avoid potential slowness/freeze if necessary.\n",
            "  warnings.warn(_create_warning_msg(\n",
            "Files already downloaded and verified\n",
            "Files already downloaded and verified\n",
            "Loss:  DebiasedPosLoss()\n",
            "Classes:  10\n",
            "  0% 0/5 [00:00<?, ?it/s]Epoch 1, acc1: 46.83\n",
            " 20% 1/5 [02:32<10:09, 152.26s/it]Epoch 2, acc1: 51.29\n",
            " 40% 2/5 [05:04<07:36, 152.16s/it]Epoch 3, acc1: 54.48\n",
            " 60% 3/5 [07:34<05:02, 151.43s/it]Epoch 4, acc1: 57.599999999999994\n",
            " 80% 4/5 [10:06<02:31, 151.65s/it]Epoch 5, acc1: 60.51\n",
            "100% 5/5 [12:36<00:00, 151.39s/it]\n"
          ]
        }
      ],
      "source": [
        "!python main.py \\\n",
        "    --dataset \"CIFAR10\" \\\n",
        "    --loss \"DebiasedPos\" \\\n",
        "    --input_dir \"/content/\" \\\n",
        "    --output_dir \"/content/models_debiasedpos\" \\\n",
        "    --encoder \"resnet18\" \\\n",
        "    --cuda \\\n",
        "    --batch_size 218 \\\n",
        "    --epochs 5"
      ],
      "id": "0yVjUomv2YoW"
    }
  ],
  "metadata": {
    "colab": {
      "collapsed_sections": [
        "YVSTFDo22TOx",
        "MBYgXkTIm7gM",
        "PC4918shiSik",
        "PwnsRaNjHWaZ",
        "OcRSihcNwzNa"
      ],
      "provenance": [],
      "gpuType": "T4"
    },
    "kernelspec": {
      "display_name": "Python 3",
      "name": "python3"
    },
    "language_info": {
      "codemirror_mode": {
        "name": "ipython",
        "version": 3
      },
      "file_extension": ".py",
      "mimetype": "text/x-python",
      "name": "python",
      "nbconvert_exporter": "python",
      "pygments_lexer": "ipython3",
      "version": "3.10.8"
    },
    "accelerator": "GPU"
  },
  "nbformat": 4,
  "nbformat_minor": 5
}